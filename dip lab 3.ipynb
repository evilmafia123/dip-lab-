{
 "cells": [
  {
   "cell_type": "markdown",
   "id": "1df885ef",
   "metadata": {},
   "source": [
    "task 2"
   ]
  },
  {
   "cell_type": "code",
   "execution_count": 1,
   "id": "ff79df29",
   "metadata": {},
   "outputs": [],
   "source": [
    "\n",
    "import numpy as np\n",
    "import cv2\n",
    "img = cv2.imread('download.jpeg',0)\n",
    "height, width = img.shape\n",
    "bin_img_arr = np.zeros((height, width), dtype = np.uint8)\n",
    "threshold = 127\n",
    "for y in range(height):\n",
    "    for x in range(width):\n",
    "        if img[y][x] >= threshold:\n",
    "            bin_img_arr[y][x] = 255\n",
    "    else:\n",
    "        bin_img_arr[y][x] = 0\n",
    "cv2.imshow(\"Binary Image: \", bin_img_arr)\n",
    "cv2.waitKey(0)\n",
    "cv2.destroyAllWindows()\n"
   ]
  },
  {
   "cell_type": "markdown",
   "id": "8bd12111",
   "metadata": {},
   "source": [
    "task 4"
   ]
  },
  {
   "cell_type": "code",
   "execution_count": 2,
   "id": "16f034fc",
   "metadata": {},
   "outputs": [],
   "source": [
    "import numpy as np\n",
    "import cv2\n",
    "img = cv2.imread('download.jpeg',0)\n",
    "height, width = img.shape\n",
    "bin_img_arr = np.zeros((height, width), dtype = np.uint8)\n",
    "threshold = 127\n",
    "for y in range(height):\n",
    "    for x in range(width):\n",
    "        if img[y][x] >= threshold:\n",
    "            bin_img_arr[y][x] = 255\n",
    "    else:\n",
    "        bin_img_arr[y][x] = 0\n",
    "cv2.imshow(\"Binary Image: \", bin_img_arr)\n",
    "cv2.waitKey(0)\n",
    "cv2.destroyAllWindows()\n"
   ]
  },
  {
   "cell_type": "markdown",
   "id": "7dbe6340",
   "metadata": {},
   "source": [
    "task 1"
   ]
  },
  {
   "cell_type": "code",
   "execution_count": 3,
   "id": "656a874b",
   "metadata": {},
   "outputs": [
    {
     "name": "stdout",
     "output_type": "stream",
     "text": [
      "Dimensions: 194x259, Number of channels: 3\n"
     ]
    }
   ],
   "source": [
    "import cv2\n",
    "image = cv2.imread('download.jpeg')\n",
    "height, width, channels = image.shape\n",
    "print(f\"Dimensions: {height}x{width}, Number of channels: {channels}\")\n",
    "cv2.imshow(\"Image\", image)\n",
    "cv2.waitKey(0)\n",
    "cv2.destroyAllWindows()\n"
   ]
  },
  {
   "cell_type": "code",
   "execution_count": 4,
   "id": "1ea5bb39",
   "metadata": {},
   "outputs": [
    {
     "name": "stdout",
     "output_type": "stream",
     "text": [
      "Image size: 6251 bytes\n",
      "Last modification date: 1727972952.554088\n",
      "Height: 194, Width: 259\n",
      "Bit Depth: uint8\n",
      "Coding Method: Unknown\n"
     ]
    }
   ],
   "source": [
    "import os\n",
    "import cv2\n",
    "image_path = 'download.jpeg'\n",
    "image_size = os.path.getsize(image_path)\n",
    "print(f\"Image size: {image_size} bytes\")\n",
    "modification_time = os.path.getmtime(image_path)\n",
    "print(f\"Last modification date: {modification_time}\")\n",
    "image = cv2.imread(image_path)\n",
    "height, width, channels = image.shape\n",
    "print(f\"Height: {height}, Width: {width}\")\n",
    "bit_depth = image.dtype\n",
    "print(f\"Bit Depth: {bit_depth}\")\n",
    "coding_method = 'JPEG' if image_path.endswith('.jpg') else 'Unknown'\n",
    "print(f\"Coding Method: {coding_method}\")\n"
   ]
  },
  {
   "cell_type": "code",
   "execution_count": 5,
   "id": "3223f15a",
   "metadata": {},
   "outputs": [
    {
     "name": "stdout",
     "output_type": "stream",
     "text": [
      "Original double values:\n",
      "[[300. -10. 150.]\n",
      " [  0. 500. 255.]]\n",
      "\n",
      "Converted to uint8:\n",
      "[[ 44 246 150]\n",
      " [  0 244 255]]\n"
     ]
    }
   ],
   "source": [
    "import numpy as np\n",
    "double_image = np.array([[300.0, -10.0, 150.0], [0.0, 500.0, 255.0]])\n",
    "uint8_image = double_image.astype(np.uint8)\n",
    "print(\"Original double values:\")\n",
    "print(double_image)\n",
    "print(\"\\nConverted to uint8:\")\n",
    "print(uint8_image)\n"
   ]
  },
  {
   "cell_type": "code",
   "execution_count": null,
   "id": "78323cbe",
   "metadata": {},
   "outputs": [],
   "source": []
  }
 ],
 "metadata": {
  "kernelspec": {
   "display_name": "Python 3 (ipykernel)",
   "language": "python",
   "name": "python3"
  },
  "language_info": {
   "codemirror_mode": {
    "name": "ipython",
    "version": 3
   },
   "file_extension": ".py",
   "mimetype": "text/x-python",
   "name": "python",
   "nbconvert_exporter": "python",
   "pygments_lexer": "ipython3",
   "version": "3.10.9"
  }
 },
 "nbformat": 4,
 "nbformat_minor": 5
}
