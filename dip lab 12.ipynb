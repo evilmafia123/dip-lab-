{
 "cells": [
  {
   "cell_type": "code",
   "execution_count": 1,
   "id": "d1cfc1a2",
   "metadata": {},
   "outputs": [
    {
     "name": "stdout",
     "output_type": "stream",
     "text": [
      "Accuracy: 100.00%\n",
      "Predicted Digit: 2\n"
     ]
    }
   ],
   "source": [
    "import cv2\n",
    "import numpy as np\n",
    "from sklearn.model_selection import train_test_split\n",
    "from sklearn.neighbors import KNeighborsClassifier\n",
    "import os\n",
    "\n",
    "# Step 1: Create a small dataset of digit images (manually load or generate programmatically)\n",
    "def generate_digit_dataset(output_dir=\"digits_dataset\"):\n",
    "    \"\"\"\n",
    "    Generate synthetic digit images for digits 0-9 and save them in a directory.\n",
    "    Each digit has 5 samples.\n",
    "    \"\"\"\n",
    "    if not os.path.exists(output_dir):\n",
    "        os.makedirs(output_dir)\n",
    "\n",
    "    font = cv2.FONT_HERSHEY_SIMPLEX\n",
    "    for digit in range(10):\n",
    "        digit_dir = os.path.join(output_dir, str(digit))\n",
    "        if not os.path.exists(digit_dir):\n",
    "            os.makedirs(digit_dir)\n",
    "\n",
    "        for sample in range(5):\n",
    "            img = np.ones((50, 50), dtype=np.uint8) * 255  # Create a blank white image\n",
    "            cv2.putText(img, str(digit), (10, 40), font, 1.5, (0), 2, cv2.LINE_AA)\n",
    "            filename = os.path.join(digit_dir, f\"{digit}_{sample}.png\")\n",
    "            cv2.imwrite(filename, img)\n",
    "\n",
    "# Generate dataset\n",
    "generate_digit_dataset()\n",
    "\n",
    "# Step 2: Extract features from the images\n",
    "def extract_features_and_labels(dataset_dir=\"digits_dataset\"):\n",
    "    \"\"\"\n",
    "    Extract pixel intensity features from digit images and their labels.\n",
    "    \"\"\"\n",
    "    features = []\n",
    "    labels = []\n",
    "\n",
    "    for digit in range(10):\n",
    "        digit_dir = os.path.join(dataset_dir, str(digit))\n",
    "        for file_name in os.listdir(digit_dir):\n",
    "            file_path = os.path.join(digit_dir, file_name)\n",
    "            img = cv2.imread(file_path, cv2.IMREAD_GRAYSCALE)\n",
    "            features.append(img.flatten())  # Flatten the image to a 1D array\n",
    "            labels.append(digit)\n",
    "\n",
    "    return np.array(features), np.array(labels)\n",
    "\n",
    "features, labels = extract_features_and_labels()\n",
    "\n",
    "# Step 3: Split the data into training and testing sets\n",
    "X_train, X_test, y_train, y_test = train_test_split(features, labels, test_size=0.3, random_state=42)\n",
    "\n",
    "# Step 4: Train the KNN classifier\n",
    "knn = KNeighborsClassifier(n_neighbors=3)\n",
    "knn.fit(X_train, y_train)\n",
    "\n",
    "# Step 5: Evaluate the classifier\n",
    "accuracy = knn.score(X_test, y_test)\n",
    "print(f\"Accuracy: {accuracy * 100:.2f}%\")\n",
    "\n",
    "# Step 6: Test with a new image\n",
    "def predict_digit(image_path):\n",
    "    \"\"\"\n",
    "    Predict the digit in the given image using the trained KNN classifier.\n",
    "    \"\"\"\n",
    "    img = cv2.imread(image_path, cv2.IMREAD_GRAYSCALE)\n",
    "    img_flattened = img.flatten().reshape(1, -1)  # Reshape to match the input shape for the model\n",
    "    prediction = knn.predict(img_flattened)\n",
    "    return prediction[0]\n",
    "\n",
    "# Example prediction\n",
    "new_image_path = \"digits_dataset/2/2_3.png\"  # Replace with a valid path to a digit image\n",
    "predicted_digit = predict_digit(new_image_path)\n",
    "print(f\"Predicted Digit: {predicted_digit}\")\n"
   ]
  },
  {
   "cell_type": "code",
   "execution_count": null,
   "id": "52b64f21",
   "metadata": {},
   "outputs": [],
   "source": []
  }
 ],
 "metadata": {
  "kernelspec": {
   "display_name": "Python 3 (ipykernel)",
   "language": "python",
   "name": "python3"
  },
  "language_info": {
   "codemirror_mode": {
    "name": "ipython",
    "version": 3
   },
   "file_extension": ".py",
   "mimetype": "text/x-python",
   "name": "python",
   "nbconvert_exporter": "python",
   "pygments_lexer": "ipython3",
   "version": "3.11.5"
  }
 },
 "nbformat": 4,
 "nbformat_minor": 5
}
